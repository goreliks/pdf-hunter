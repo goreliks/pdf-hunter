{
 "cells": [
  {
   "cell_type": "markdown",
   "id": "541e2bd5-e969-4e3b-9b5b-de203d6937fa",
   "metadata": {},
   "source": [
    "# SCHEMAS"
   ]
  },
  {
   "cell_type": "code",
   "execution_count": 1,
   "id": "fe024029-4137-4870-b69e-394de19219bd",
   "metadata": {},
   "outputs": [],
   "source": [
    "from typing import List, Optional, Dict\n",
    "from typing_extensions import TypedDict, NotRequired, Annotated\n",
    "import operator\n",
    "\n",
    "\n",
    "from pdf_hunter.agents.pdf_extraction.schemas import ExtractedImage, ExtractedURL\n",
    "from pdf_hunter.agents.image_analysis.schemas import ImageAnalysisReport\n",
    "from pdf_hunter.agents.pdf_extraction.schemas import PDFHashData\n",
    "from pdf_hunter.agents.file_analysis.schemas import EvidenceGraph, FinalReport\n",
    "from pdf_hunter.agents.url_investigation.schemas import URLAnalysisResult\n",
    "from pdf_hunter.agents.report_generator.schemas import FinalVerdict"
   ]
  },
  {
   "cell_type": "code",
   "execution_count": 2,
   "id": "be585d01-d324-4cc1-a0ce-9b9dc5397629",
   "metadata": {},
   "outputs": [],
   "source": [
    "class OrchestratorState(TypedDict):\n",
    "    \"\"\"\n",
    "    The master state for the PDF-Hunter orchestrator.\n",
    "    It holds the initial inputs and collects the final reports from all sub-agents.\n",
    "    \"\"\"\n",
    "    # --- Initial User Inputs ---\n",
    "    file_path: str\n",
    "    output_directory: str\n",
    "    number_of_pages_to_process: int\n",
    "    pages_to_process: Optional[List[int]]\n",
    "    additional_context: NotRequired[Optional[str]]\n",
    "    session_id: NotRequired[Optional[str]]\n",
    "\n",
    "    pdf_hash: Optional[PDFHashData]\n",
    "    page_count: Optional[int]\n",
    "\n",
    "    # --- Results from Preprocessing Agent ---\n",
    "    extracted_images: List[ExtractedImage]\n",
    "    extracted_urls: List[ExtractedURL]\n",
    "\n",
    "    # --- Results from Visual Analysis Agent ---\n",
    "    visual_analysis_report: NotRequired[ImageAnalysisReport]\n",
    "\n",
    "    # --- Results from Static Analysis Agent ---\n",
    "    structural_summary: Dict[str, str]\n",
    "    master_evidence_graph: NotRequired[EvidenceGraph]\n",
    "    triage_classification_decision: NotRequired[str]\n",
    "    triage_classification_reasoning: NotRequired[str]\n",
    "    static_analysis_final_report: NotRequired[FinalReport]\n",
    "\n",
    "    # --- Results from Link Analysis Agent ---\n",
    "    link_analysis_final_reports: Annotated[List[URLAnalysisResult], operator.add]\n",
    "\n",
    "    # --- Results from Finalization Agent ---\n",
    "    final_report: NotRequired[str]\n",
    "    final_verdict: NotRequired[FinalVerdict]\n",
    "\n",
    "    # --- Global Error Tracking ---\n",
    "    errors: Annotated[List[list], operator.add]\n",
    "\n",
    "\n",
    "class OrchestratorInputState(TypedDict):\n",
    "    file_path: str\n",
    "    output_directory: NotRequired[Optional[str]]\n",
    "    number_of_pages_to_process: int\n",
    "    additional_context: NotRequired[Optional[str]]\n",
    "    session_id: NotRequired[Optional[str]]\n",
    "\n",
    "\n",
    "# class OrchestratorOutputState(TypedDict):\n",
    "#     final_verdict: NotRequired[FinalVerdict]"
   ]
  },
  {
   "cell_type": "code",
   "execution_count": null,
   "id": "fa2f56a3-cd21-46f3-a5e3-91447042e9ab",
   "metadata": {},
   "outputs": [],
   "source": []
  },
  {
   "cell_type": "markdown",
   "id": "9c2c4394-72ec-48f3-af16-6e4451a156b2",
   "metadata": {},
   "source": [
    "# GRAPH"
   ]
  },
  {
   "cell_type": "code",
   "execution_count": 3,
   "id": "5e87d786-6060-4427-b8e0-14b4360bd18d",
   "metadata": {},
   "outputs": [],
   "source": [
    "from langgraph.graph import StateGraph, START, END\n",
    "\n",
    "from pdf_hunter.agents.pdf_extraction.graph import preprocessing_graph\n",
    "from pdf_hunter.agents.image_analysis.graph import visual_analysis_graph\n",
    "from pdf_hunter.agents.file_analysis.graph import static_analysis_graph\n",
    "from pdf_hunter.agents.url_investigation.graph import link_analysis_graph\n",
    "from pdf_hunter.agents.report_generator.graph import report_generator_graph\n",
    "from pdf_hunter.config.logging_config import setup_logging\n",
    "from pdf_hunter.config import ORCHESTRATOR_CONFIG"
   ]
  },
  {
   "cell_type": "code",
   "execution_count": 4,
   "id": "4b4821c9-2f0b-4a03-be9c-cf2a6349209a",
   "metadata": {},
   "outputs": [],
   "source": [
    "orchestrator_builder = StateGraph(OrchestratorState, input_schema=OrchestratorInputState)#, output_schema=OrchestratorOutputState)\n",
    "\n",
    "orchestrator_builder.add_node(\"PDF Extraction\", preprocessing_graph)\n",
    "orchestrator_builder.add_node(\"File Analysis\", static_analysis_graph)\n",
    "orchestrator_builder.add_node(\"Image Analysis\", visual_analysis_graph)\n",
    "orchestrator_builder.add_node(\"URL Investigation\", link_analysis_graph)\n",
    "orchestrator_builder.add_node(\"Report Generator\", report_generator_graph)\n",
    "orchestrator_builder.add_edge(START, \"PDF Extraction\")\n",
    "orchestrator_builder.add_edge(\"PDF Extraction\", \"File Analysis\")\n",
    "orchestrator_builder.add_edge(\"PDF Extraction\", \"Image Analysis\")\n",
    "orchestrator_builder.add_edge(\"Image Analysis\", \"URL Investigation\")\n",
    "orchestrator_builder.add_edge([\"File Analysis\", \"URL Investigation\"], \"Report Generator\")\n",
    "orchestrator_builder.add_edge(\"Report Generator\", END)\n",
    "\n",
    "orchestrator_graph = orchestrator_builder.compile()\n",
    "orchestrator_graph = orchestrator_graph.with_config(ORCHESTRATOR_CONFIG)"
   ]
  },
  {
   "cell_type": "code",
   "execution_count": null,
   "id": "8e86312b-f84c-4bb1-ab75-28c517b56003",
   "metadata": {},
   "outputs": [],
   "source": []
  },
  {
   "cell_type": "code",
   "execution_count": 5,
   "id": "153f4e94-49d7-43e2-8889-a56df81aeb74",
   "metadata": {},
   "outputs": [],
   "source": [
    "from IPython.display import Image, display"
   ]
  },
  {
   "cell_type": "code",
   "execution_count": 6,
   "id": "a727737a-068e-42ee-87b8-ef341f7a2843",
   "metadata": {},
   "outputs": [
    {
     "data": {
      "image/png": "[encoded data removed]",
      "text/plain": [
       "<IPython.core.display.Image object>"
      ]
     },
     "metadata": {},
     "output_type": "display_data"
    }
   ],
   "source": [
    "display(Image(orchestrator_graph.get_graph().draw_mermaid_png()))"
   ]
  },
  {
   "cell_type": "code",
   "execution_count": null,
   "id": "fa45cced-5af1-4596-be45-a736510831de",
   "metadata": {},
   "outputs": [],
   "source": []
  },
  {
   "cell_type": "code",
   "execution_count": 7,
   "id": "daca9331-3527-40b6-8ace-3d967b09ef96",
   "metadata": {},
   "outputs": [],
   "source": [
    "file_path = \"/Users/gorelik/Courses/pdf-hunter/tests/assets/pdfs/87c740d2b7c22f9ccabbdef412443d166733d4d925da0e8d6e5b310ccfc89e13.pdf\"\n",
    "number_of_pages_to_process = 3"
   ]
  },
  {
   "cell_type": "code",
   "execution_count": null,
   "id": "e2566d61-1c45-452a-a700-3c1254f45e0e",
   "metadata": {},
   "outputs": [],
   "source": []
  },
  {
   "cell_type": "code",
   "execution_count": 8,
   "id": "9d8e1a3d-3cb5-400e-9faa-267704200e70",
   "metadata": {},
   "outputs": [],
   "source": [
    "orchestrator_input = {\n",
    "    \"file_path\": file_path,\n",
    "    \"output_directory\": \"output\",\n",
    "    \"number_of_pages_to_process\": number_of_pages_to_process,\n",
    "    \"additional_context\": \"None\"\n",
    "}"
   ]
  },
  {
   "cell_type": "code",
   "execution_count": null,
   "id": "9b6476b8-13ef-4399-ab87-60fec1ffafdf",
   "metadata": {},
   "outputs": [],
   "source": []
  },
  {
   "cell_type": "code",
   "execution_count": null,
   "id": "45707793-7b2f-4bf8-a71d-235f84232204",
   "metadata": {},
   "outputs": [],
   "source": [
    "final_state = await orchestrator_graph.ainvoke(orchestrator_input)"
   ]
  },
  {
   "cell_type": "code",
   "execution_count": null,
   "id": "d62e97cc-773f-4048-890e-6a1b2d608de1",
   "metadata": {},
   "outputs": [],
   "source": []
  },
  {
   "cell_type": "code",
   "execution_count": 10,
   "id": "d204b913-016f-4f2a-9805-4203b0fa0ff2",
   "metadata": {},
   "outputs": [
    {
     "data": {
      "text/plain": [
       "dict_keys(['file_path', 'output_directory', 'number_of_pages_to_process', 'pages_to_process', 'additional_context', 'session_id', 'pdf_hash', 'page_count', 'extracted_images', 'extracted_urls', 'visual_analysis_report', 'structural_summary', 'triage_classification_decision', 'triage_classification_reasoning', 'static_analysis_final_report', 'link_analysis_final_reports', 'final_verdict', 'errors'])"
      ]
     },
     "execution_count": 10,
     "metadata": {},
     "output_type": "execute_result"
    }
   ],
   "source": [
    "final_state.keys()"
   ]
  },
  {
   "cell_type": "code",
   "execution_count": null,
   "id": "5dd902f2-28fd-4edd-8ebb-34c309ac6bb3",
   "metadata": {},
   "outputs": [],
   "source": []
  }
 ],
 "metadata": {
  "kernelspec": {
   "display_name": "PDF Hunter (venv)",
   "language": "python",
   "name": "pdf-hunter-correct"
  },
  "language_info": {
   "codemirror_mode": {
    "name": "ipython",
    "version": 3
   },
   "file_extension": ".py",
   "mimetype": "text/x-python",
   "name": "python",
   "nbconvert_exporter": "python",
   "pygments_lexer": "ipython3",
   "version": "3.11.12"
  }
 },
 "nbformat": 4,
 "nbformat_minor": 5
}
