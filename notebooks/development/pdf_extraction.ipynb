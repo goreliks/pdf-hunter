{
 "cells": [
  {
   "cell_type": "markdown",
   "id": "0294a02d-aa8e-4160-a8a5-1580a5d17d0f",
   "metadata": {},
   "source": [
    "# SCHEMAS"
   ]
  },
  {
   "cell_type": "code",
   "execution_count": 1,
   "id": "0eecc354-395a-45fa-94d5-e4106bcfb331",
   "metadata": {},
   "outputs": [],
   "source": [
    "import operator\n",
    "from typing import List, Dict, Optional, Any\n",
    "from pydantic import BaseModel, Field\n",
    "from typing_extensions import TypedDict, Annotated"
   ]
  },
  {
   "cell_type": "code",
   "execution_count": 2,
   "id": "d0bf78f5-cf69-4290-9384-a4f8cdd70a6a",
   "metadata": {},
   "outputs": [],
   "source": [
    "class PDFHashData(BaseModel):\n",
    "    \"\"\"Hash information for the PDF file.\"\"\"\n",
    "    sha1: str = Field(..., description=\"SHA1 hash of the PDF file\")\n",
    "    md5: str = Field(..., description=\"MD5 hash of the PDF file\")\n",
    "\n",
    "class ExtractedImage(BaseModel):\n",
    "    \"\"\"Information about an extracted image.\"\"\"\n",
    "    page_number: int = Field(..., description=\"Page number the image was extracted from (0-based)\")\n",
    "    base64_data: str = Field(..., description=\"Base64-encoded image data\")\n",
    "    image_format: str = Field(..., description=\"Image format (e.g., 'png', 'jpg')\")\n",
    "    phash: Optional[str] = Field(None, description=\"Perceptual hash of the image\")\n",
    "    saved_path: Optional[str] = Field(None, description=\"Path where the image was saved\")\n",
    "    image_sha1: Optional[str] = Field(None, description=\"SHA1 hash of the image data\")\n",
    "\n",
    "class ExtractedURL(BaseModel):\n",
    "    \"\"\"Information about an extracted URL.\"\"\"\n",
    "    url: str = Field(..., description=\"The extracted URL\")\n",
    "    page_number: int = Field(..., description=\"Page number where the URL was found\")\n",
    "    url_type: str = Field(..., description=\"Type of URL (e.g., 'annotation', 'text')\")\n",
    "    coordinates: Optional[Dict[str, float]] = Field(None, description=\"Coordinates of the URL if from an annotation\")\n",
    "    is_external: Optional[bool] = Field(None, description=\"Whether the URL is external\")\n",
    "    xref: Optional[int] = Field(None, description=\"The PDF cross-reference number of the link annotation object\")"
   ]
  },
  {
   "cell_type": "code",
   "execution_count": 3,
   "id": "62d7897f-84e1-4f68-a7c1-496daf6dca0a",
   "metadata": {},
   "outputs": [],
   "source": [
    "class PDFExtractionState(TypedDict):\n",
    "    \"\"\"\n",
    "    State for the PDF Extraction agent.\n",
    "    Manages the extraction of visual and structural data from a PDF.\n",
    "    \"\"\"\n",
    "    # --- Inputs ---\n",
    "    file_path: str\n",
    "    output_directory: str\n",
    "    pages_to_process: Optional[List[int]] # List of 0-based page numbers to process\n",
    "    number_of_pages_to_process: int\n",
    "    session_id: Optional[str]  # Added for session management\n",
    "\n",
    "    # --- Outputs ---\n",
    "    pdf_hash: Optional[PDFHashData]\n",
    "    page_count: Optional[int]\n",
    "    extracted_images: List[ExtractedImage]\n",
    "    extracted_urls: Annotated[List[ExtractedURL], operator.add]\n",
    "\n",
    "    # --- Error Tracking ---\n",
    "    # Using Annotated with operator.add allows LangGraph to automatically\n",
    "    # aggregate errors from parallel nodes, just like in static_analysis.\n",
    "    errors: Annotated[List[str], operator.add]\n",
    "\n",
    "\n",
    "class PDFExtractionInputState(TypedDict):\n",
    "    file_path: str\n",
    "    output_directory: str\n",
    "    number_of_pages_to_process: int\n",
    "    session_id: Optional[str]  # Added for session management\n",
    "\n",
    "\n",
    "class PDFExtractionOutputState(TypedDict):\n",
    "    output_directory: str  # Added to pass session directory to other agents\n",
    "    session_id: str        # Added to pass session ID to other agents\n",
    "    pdf_hash: Optional[PDFHashData]\n",
    "    page_count: Optional[int]\n",
    "    pages_to_process: List[int]\n",
    "    extracted_images: List[ExtractedImage]\n",
    "    extracted_urls: List[ExtractedURL]\n",
    "    errors: Annotated[List[str], operator.add]"
   ]
  },
  {
   "cell_type": "code",
   "execution_count": null,
   "id": "3bafd6a5-ecfe-415e-b021-f47231adffd3",
   "metadata": {},
   "outputs": [],
   "source": []
  },
  {
   "cell_type": "markdown",
   "id": "23ad3bba-4a14-46d6-9c3c-efd021d53c34",
   "metadata": {},
   "source": [
    "# NODES"
   ]
  },
  {
   "cell_type": "code",
   "execution_count": 39,
   "id": "e7f10777-c28a-4e3d-a0c0-5260105b20f4",
   "metadata": {},
   "outputs": [],
   "source": [
    "import base64\n",
    "from PIL import Image\n",
    "import io\n",
    "import pathlib\n",
    "import os\n",
    "import inspect\n",
    "from datetime import datetime\n",
    "import asyncio\n",
    "\n",
    "from loguru import logger\n",
    "\n",
    "from pdf_hunter.shared.utils.hashing import calculate_file_hashes\n",
    "from pdf_hunter.shared.utils.image_extraction import extract_pages_as_base64_images, calculate_image_phash, get_pdf_page_count, save_image\n",
    "from pdf_hunter.shared.utils.url_extraction import extract_urls_from_pdf\n",
    "from pdf_hunter.shared.utils.file_operations import ensure_output_directory\n",
    "from pdf_hunter.shared.utils.qr_extraction import process_pdf_for_qr_codes\n",
    "from pdf_hunter.shared.utils.serializer import dump_state_to_file\n",
    "from pdf_hunter.config import MAXIMUM_PAGES_TO_PROCESS"
   ]
  },
  {
   "cell_type": "code",
   "execution_count": null,
   "id": "12864f2f-32ff-4a17-a49b-7a3dc8fa13fb",
   "metadata": {},
   "outputs": [],
   "source": []
  },
  {
   "cell_type": "code",
   "execution_count": 5,
   "id": "acb99079-2391-45be-a154-8b8d48c670f6",
   "metadata": {},
   "outputs": [],
   "source": [
    "def setup_session(state: PDFExtractionState):\n",
    "    \"\"\"\n",
    "    Initializes the PDF extraction by validating paths, calculating hashes,\n",
    "    generating session_id (or using provided one), and creating session-specific directory structure.\n",
    "    \"\"\"\n",
    "    try:\n",
    "        file_path = state['file_path']\n",
    "        base_output_directory = state.get('output_directory', 'output')\n",
    "        number_of_pages_to_process = state[\"number_of_pages_to_process\"]\n",
    "        provided_session_id = state.get('session_id')\n",
    "        \n",
    "        # Agent start event\n",
    "        logger.info(f\"🚀 Starting PDF extraction session\",\n",
    "                    agent=\"PdfExtraction\",\n",
    "                    node=\"setup_session\",\n",
    "                    event_type=\"AGENT_START\",\n",
    "                    file_path=file_path,\n",
    "                    provided_session_id=provided_session_id)\n",
    "\n",
    "        # Validate inputs\n",
    "        if not file_path:\n",
    "            raise ValueError(\"file_path is required\")\n",
    "        \n",
    "        if not os.path.exists(file_path):\n",
    "            raise FileNotFoundError(f\"PDF file not found: {file_path}\")\n",
    "        \n",
    "        if not os.path.isfile(file_path):\n",
    "            raise ValueError(f\"Path is not a file: {file_path}\")\n",
    "        \n",
    "        if number_of_pages_to_process <= 0:\n",
    "            raise ValueError(f\"number_of_pages_to_process must be positive, got: {number_of_pages_to_process}\")\n",
    "        \n",
    "        # Apply maximum pages cap\n",
    "        if number_of_pages_to_process > MAXIMUM_PAGES_TO_PROCESS:\n",
    "            logger.warning(f\"Requested {number_of_pages_to_process} pages exceeds maximum limit of {MAXIMUM_PAGES_TO_PROCESS}. Capping to {MAXIMUM_PAGES_TO_PROCESS}.\",\n",
    "                          agent=\"PdfExtraction\",\n",
    "                          node=\"setup_session\")\n",
    "            number_of_pages_to_process = MAXIMUM_PAGES_TO_PROCESS\n",
    "\n",
    "        # 1. Calculate file hashes (needed for validation and session_id generation)\n",
    "        hashes = calculate_file_hashes(file_path)\n",
    "        pdf_hash = PDFHashData(sha1=hashes[\"sha1\"], md5=hashes[\"md5\"])\n",
    "\n",
    "        # 2. Use provided session_id or generate new one\n",
    "        if provided_session_id:\n",
    "            session_id = provided_session_id\n",
    "            logger.info(\n",
    "                f\"📝 Using provided session_id\",\n",
    "                agent=\"PdfExtraction\",\n",
    "                node=\"setup_session\",\n",
    "                session_id=session_id,\n",
    "                expected_sha1=pdf_hash.sha1[:16]\n",
    "            )\n",
    "            # Validate that provided session_id matches file hash\n",
    "            if not session_id.startswith(pdf_hash.sha1):\n",
    "                logger.warning(\n",
    "                    f\"⚠️ Provided session_id doesn't match file SHA1 hash\",\n",
    "                    agent=\"PdfExtraction\",\n",
    "                    node=\"setup_session\",\n",
    "                    session_id=session_id,\n",
    "                    file_sha1=pdf_hash.sha1[:16]\n",
    "                )\n",
    "        else:\n",
    "            # Generate new session_id using {sha1}_{timestamp}\n",
    "            timestamp = datetime.now().strftime(\"%Y%m%d_%H%M%S\")\n",
    "            session_id = f\"{pdf_hash.sha1}_{timestamp}\"\n",
    "            logger.info(\n",
    "                f\"🆕 Generated new session_id\",\n",
    "                agent=\"PdfExtraction\",\n",
    "                node=\"setup_session\",\n",
    "                session_id=session_id\n",
    "            )\n",
    "\n",
    "        # 3. Create session-specific output directory\n",
    "        # Check if base_output_directory already includes the session_id (when called from API)\n",
    "        # to avoid double-nesting like output/{session_id}/{session_id}/\n",
    "        if base_output_directory.endswith(session_id):\n",
    "            # API server already created output/{session_id}/, use it directly\n",
    "            session_output_directory = base_output_directory\n",
    "        else:\n",
    "            # Standalone mode: base_output_directory is just \"output\", append session_id\n",
    "            session_output_directory = os.path.join(base_output_directory, session_id)\n",
    "        \n",
    "        pdf_extraction_directory = os.path.join(session_output_directory, \"pdf_extraction\")\n",
    "\n",
    "        # 4. Ensure directories exist\n",
    "        ensure_output_directory(pathlib.Path(session_output_directory))\n",
    "        ensure_output_directory(pathlib.Path(pdf_extraction_directory))\n",
    "\n",
    "        # 5. Get total page count\n",
    "        page_count = get_pdf_page_count(file_path)\n",
    "\n",
    "        # 6. Validate and set pages to process\n",
    "        if number_of_pages_to_process > page_count:\n",
    "            logger.warning(\n",
    "                f\"⚠️ Requested {number_of_pages_to_process} pages but PDF only has {page_count} pages. Processing all available pages.\",\n",
    "                agent=\"PdfExtraction\",\n",
    "                node=\"setup_session\",\n",
    "            )\n",
    "            number_of_pages_to_process = page_count\n",
    "        \n",
    "        pages_to_process = list(range(number_of_pages_to_process))\n",
    "        \n",
    "        # Session created event with all metadata\n",
    "        logger.info(\n",
    "            f\"✅ Session initialized | ID: {session_id} | SHA1: {pdf_hash.sha1[:16]}... | MD5: {pdf_hash.md5[:16]}... | Pages (to process/total): {number_of_pages_to_process}/{page_count}\",\n",
    "            agent=\"PdfExtraction\",\n",
    "            node=\"setup_session\",\n",
    "            event_type=\"SESSION_CREATED\",\n",
    "            session_id=session_id,\n",
    "            pdf_hash_sha1=pdf_hash.sha1,\n",
    "            pdf_hash_md5=pdf_hash.md5,\n",
    "            total_pages=page_count,\n",
    "            pages_to_process=number_of_pages_to_process,\n",
    "            session_output_dir=session_output_directory,\n",
    "            pdf_extraction_dir=pdf_extraction_directory,\n",
    "        )\n",
    "\n",
    "        result = {\n",
    "            \"session_id\": session_id,\n",
    "            \"output_directory\": session_output_directory,  # Update to session-specific directory\n",
    "            \"pdf_hash\": pdf_hash,\n",
    "            \"page_count\": page_count,\n",
    "            \"pages_to_process\": pages_to_process\n",
    "        }\n",
    "        return result\n",
    "\n",
    "    except Exception as e:\n",
    "        error_msg = f\"Error in setup_session: {e}\"\n",
    "        logger.exception(\"❌ Session setup failed\",\n",
    "                        agent=\"PdfExtraction\",\n",
    "                        node=\"setup_session\",\n",
    "                        event_type=\"ERROR\",\n",
    "                        error=str(e))\n",
    "        return {\"errors\": [error_msg]}"
   ]
  },
  {
   "cell_type": "code",
   "execution_count": 6,
   "id": "c4391541-fa65-4f02-845a-957fc370b054",
   "metadata": {},
   "outputs": [],
   "source": [
    "def extract_pdf_images(state: PDFExtractionState):\n",
    "    \"\"\"\n",
    "    Extracts images from the specified pages of the PDF, calculates their\n",
    "    perceptual hash (phash), and saves them to the preprocessing subdirectory.\n",
    "    \"\"\"\n",
    "    try:\n",
    "        file_path = state['file_path']\n",
    "        session_id = state.get('session_id')\n",
    "        session_output_dir = state['output_directory']\n",
    "        pdf_extraction_dir = pathlib.Path(os.path.join(session_output_dir, \"pdf_extraction\"))\n",
    "        pages_to_process = state.get('pages_to_process')\n",
    "\n",
    "        # If specific pages aren't defined, default to the first page.\n",
    "        if not pages_to_process:\n",
    "            pages_to_process = [0] if state.get('page_count', 0) > 0 else []\n",
    "\n",
    "        # Image extraction start event\n",
    "        logger.info(\"📸 Extracting images from PDF pages\",\n",
    "                    agent=\"PdfExtraction\",\n",
    "                    node=\"extract_images\",\n",
    "                    event_type=\"IMAGE_EXTRACTION_START\",\n",
    "                    session_id=session_id,\n",
    "                    pages_count=len(pages_to_process),\n",
    "                    dpi=150)\n",
    "\n",
    "        # 1. Extract raw image data using our utility\n",
    "        base64_images_data = extract_pages_as_base64_images(\n",
    "            pdf_path=file_path,\n",
    "            pages=pages_to_process,\n",
    "            dpi=150,\n",
    "            image_format=\"PNG\"\n",
    "        )\n",
    "\n",
    "        extracted_images = []\n",
    "        images_data = []  # For summary logging with all image details\n",
    "        \n",
    "        for img_data in base64_images_data:\n",
    "            page_number = img_data['page_number']\n",
    "            \n",
    "            # 2. Decode image to calculate phash and save\n",
    "            img_bytes = base64.b64decode(img_data[\"base64_data\"])\n",
    "            pil_image = Image.open(io.BytesIO(img_bytes))\n",
    "\n",
    "            # 3. Calculate perceptual hash\n",
    "            phash = calculate_image_phash(pil_image)\n",
    "\n",
    "            # 4. Save the image file to pdf_extraction subdirectory\n",
    "            saved_path = save_image(\n",
    "                image=pil_image,\n",
    "                output_dir=pdf_extraction_dir,\n",
    "                page_number=page_number,\n",
    "                image_format=\"PNG\",\n",
    "                phash=phash\n",
    "            )\n",
    "\n",
    "            # Progress logging (DEBUG level for per-image tracking)\n",
    "            logger.debug(\n",
    "                f\"📸 Page {page_number} extracted | pHash: {phash} | Path: {saved_path.name}\",\n",
    "                agent=\"PdfExtraction\",\n",
    "                node=\"extract_images\",\n",
    "                session_id=session_id,\n",
    "                page_number=page_number,\n",
    "                phash=phash,\n",
    "                saved_path=str(saved_path),\n",
    "            )\n",
    "\n",
    "            # 5. Create the structured ExtractedImage object\n",
    "            extracted_image = ExtractedImage(\n",
    "                page_number=page_number,\n",
    "                base64_data=img_data[\"base64_data\"],\n",
    "                image_format=img_data[\"image_format\"],\n",
    "                phash=phash,\n",
    "                saved_path=str(saved_path)\n",
    "            )\n",
    "            extracted_images.append(extracted_image)\n",
    "            \n",
    "            # Collect data for summary log\n",
    "            images_data.append({\n",
    "                \"page_number\": page_number,\n",
    "                \"phash\": phash,\n",
    "                \"saved_path\": str(saved_path),\n",
    "                \"base64_data\": img_data[\"base64_data\"]  # Include for remote rendering\n",
    "            })\n",
    "\n",
    "        # Summary with all images data\n",
    "        logger.info(\n",
    "            f\"📸 Extracted {len(images_data)} images from PDF\",\n",
    "            agent=\"PdfExtraction\",\n",
    "            node=\"extract_images\",\n",
    "            event_type=\"IMAGE_EXTRACTION_PROGRESS\",\n",
    "            session_id=session_id,\n",
    "            images_data=images_data,\n",
    "        )\n",
    "\n",
    "        # Completion event\n",
    "        logger.success(\n",
    "            f\"✅ Image extraction complete | {len(extracted_images)} images processed\",\n",
    "            agent=\"PdfExtraction\",\n",
    "            node=\"extract_images\",\n",
    "            event_type=\"IMAGE_EXTRACTION_COMPLETE\",\n",
    "            session_id=session_id,\n",
    "            images_extracted=len(extracted_images),\n",
    "            pages_processed=len(pages_to_process),\n",
    "        )\n",
    "\n",
    "        return {\"extracted_images\": extracted_images}\n",
    "\n",
    "    except Exception as e:\n",
    "        error_msg = f\"Error in extract_pdf_images: {e}\"\n",
    "        logger.exception(\"❌ Image extraction failed\",\n",
    "                        agent=\"PdfExtraction\",\n",
    "                        node=\"extract_images\",\n",
    "                        event_type=\"ERROR\",\n",
    "                        session_id=state.get('session_id'),\n",
    "                        error=str(e))\n",
    "        return {\"errors\": [error_msg]}"
   ]
  },
  {
   "cell_type": "code",
   "execution_count": 7,
   "id": "686ba5f0-2313-4edc-a986-211a9a9e2484",
   "metadata": {},
   "outputs": [],
   "source": [
    "def find_embedded_urls(state: PDFExtractionState):\n",
    "    \"\"\"\n",
    "    Extracts URLs from the specified pages of the PDF from both\n",
    "    annotations and raw text.\n",
    "    \"\"\"\n",
    "    try:\n",
    "        file_path = state['file_path']\n",
    "        session_id = state.get('session_id')\n",
    "        pages_to_process = state.get('pages_to_process')\n",
    "\n",
    "        # If specific pages aren't defined, default to the first page.\n",
    "        if not pages_to_process:\n",
    "            pages_to_process = [0] if state.get('page_count', 0) > 0 else []\n",
    "\n",
    "        # URL extraction start event\n",
    "        logger.info(\"🔗 Searching for embedded URLs\",\n",
    "                    agent=\"PdfExtraction\",\n",
    "                    node=\"find_urls\",\n",
    "                    event_type=\"URL_EXTRACTION_START\",\n",
    "                    session_id=session_id,\n",
    "                    pages_to_scan=len(pages_to_process))\n",
    "\n",
    "        # 1. Extract URL data using our final, validated utility\n",
    "        url_data_list = extract_urls_from_pdf(\n",
    "            pdf_path=file_path,\n",
    "            specific_pages=pages_to_process\n",
    "        )\n",
    "\n",
    "        # 2. Convert the dictionaries into ExtractedURL Pydantic objects.\n",
    "        extracted_urls = [ExtractedURL(**url_data) for url_data in url_data_list]\n",
    "\n",
    "        # Calculate URL type breakdown\n",
    "        url_type_counts = {}\n",
    "        url_list = []\n",
    "        for url_obj in extracted_urls:\n",
    "            url_type_counts[url_obj.url_type] = url_type_counts.get(url_obj.url_type, 0) + 1\n",
    "            url_list.append({\n",
    "                \"url\": url_obj.url,\n",
    "                \"url_type\": url_obj.url_type,\n",
    "                \"page_number\": url_obj.page_number\n",
    "            })\n",
    "\n",
    "        # URLs found event (INFO level - just data, not suspicious)\n",
    "        # Format URL preview for terminal (first 3 URLs)\n",
    "        if url_list:\n",
    "            url_preview = \", \".join([u[\"url\"][:60] + (\"...\" if len(u[\"url\"]) > 60 else \"\") for u in url_list[:3]])\n",
    "            if len(url_list) > 3:\n",
    "                url_preview += f\" ... and {len(url_list) - 3} more\"\n",
    "            \n",
    "            # Format type breakdown for display (escape braces for loguru)\n",
    "            types_str = str(url_type_counts).replace('{', '{{').replace('}', '}}')\n",
    "            \n",
    "            logger.info(\n",
    "                f\"🔗 Found {len(extracted_urls)} embedded URLs | Types: {types_str} | URLs: {url_preview}\",\n",
    "                agent=\"PdfExtraction\",\n",
    "                node=\"find_urls\",\n",
    "                event_type=\"URLS_FOUND\",\n",
    "                session_id=session_id,\n",
    "                url_count=len(extracted_urls),\n",
    "                url_type_breakdown=url_type_counts,\n",
    "                url_list=url_list,\n",
    "            )\n",
    "        else:\n",
    "            logger.info(\n",
    "                \"🔗 No embedded URLs found\",\n",
    "                agent=\"PdfExtraction\",\n",
    "                node=\"find_urls\",\n",
    "                event_type=\"URLS_FOUND\",\n",
    "                session_id=session_id,\n",
    "                url_count=0,\n",
    "                url_type_breakdown={},\n",
    "                url_list=[],\n",
    "            )\n",
    "\n",
    "        return {\"extracted_urls\": extracted_urls}\n",
    "\n",
    "    except Exception as e:\n",
    "        error_msg = f\"Error in find_embedded_urls: {e}\"\n",
    "        logger.exception(\"❌ URL extraction failed\",\n",
    "                        agent=\"PdfExtraction\",\n",
    "                        node=\"find_urls\",\n",
    "                        event_type=\"ERROR\",\n",
    "                        session_id=state.get('session_id'),\n",
    "                        error=str(e))\n",
    "        return {\"errors\": [error_msg]}"
   ]
  },
  {
   "cell_type": "code",
   "execution_count": 8,
   "id": "f75633af-4766-4b19-bd8e-1f7b8289b03b",
   "metadata": {},
   "outputs": [],
   "source": [
    "def scan_qr_codes(state: PDFExtractionState):\n",
    "    \"\"\"\n",
    "    Extracts QR codes from the specified pages of the PDF.\n",
    "    \"\"\"\n",
    "    try:\n",
    "        file_path = state['file_path']\n",
    "        session_id = state.get('session_id')\n",
    "        pages_to_process = state.get('pages_to_process')\n",
    "\n",
    "        # If specific pages aren't defined, default to the first page.\n",
    "        if not pages_to_process:\n",
    "            pages_to_process = [0] if state.get('page_count', 0) > 0 else []\n",
    "\n",
    "        # QR scan start event\n",
    "        logger.info(\"📱 Scanning for QR codes\",\n",
    "                    agent=\"PdfExtraction\",\n",
    "                    node=\"scan_qr\",\n",
    "                    event_type=\"QR_SCAN_START\",\n",
    "                    session_id=session_id,\n",
    "                    pages_to_scan=len(pages_to_process))\n",
    "\n",
    "        # 1. Extract QR code data using our utility (auto-detect caller's function name)\n",
    "        caller_name = inspect.currentframe().f_code.co_name\n",
    "        qr_data_list = process_pdf_for_qr_codes(\n",
    "            pdf_path=file_path,\n",
    "            specific_pages=pages_to_process,\n",
    "            log_agent=\"PdfExtraction\",\n",
    "            log_caller=caller_name  # Automatically gets \"scan_qr_codes\"\n",
    "        )\n",
    "\n",
    "        # 2. Convert the dictionaries into ExtractedURL Pydantic objects.\n",
    "        extracted_qr_urls = [ExtractedURL(**qr_data) for qr_data in qr_data_list]\n",
    "\n",
    "        # Build QR code list with all details\n",
    "        qr_list = []\n",
    "        for qr_url in extracted_qr_urls:\n",
    "            qr_list.append({\n",
    "                \"url\": qr_url.url,\n",
    "                \"page_number\": qr_url.page_number\n",
    "            })\n",
    "\n",
    "        # QR codes found event (WARNING level - suspicious!)\n",
    "        if extracted_qr_urls:\n",
    "            # Format QR URLs for terminal display (first 2)\n",
    "            qr_preview = \" | \".join([f\"Page {qr['page_number']}: {qr['url'][:80]}\" for qr in qr_list[:2]])\n",
    "            if len(qr_list) > 2:\n",
    "                qr_preview += f\" ... and {len(qr_list) - 2} more\"\n",
    "            \n",
    "            logger.warning(\n",
    "                f\"⚠️  QR codes detected: {len(extracted_qr_urls)} codes found | {qr_preview}\",\n",
    "                agent=\"PdfExtraction\",\n",
    "                node=\"scan_qr\",\n",
    "                event_type=\"QR_CODES_FOUND\",\n",
    "                session_id=session_id,\n",
    "                qr_count=len(extracted_qr_urls),\n",
    "                qr_list=qr_list,\n",
    "            )\n",
    "        else:\n",
    "            logger.info(\n",
    "                \"📱 No QR codes found\",\n",
    "                agent=\"PdfExtraction\",\n",
    "                node=\"scan_qr\",\n",
    "                event_type=\"QR_SCAN_COMPLETE\",\n",
    "                session_id=session_id,\n",
    "                qr_count=0,\n",
    "            )\n",
    "        \n",
    "        return {\"extracted_urls\": extracted_qr_urls}\n",
    "\n",
    "    except Exception as e:\n",
    "        error_msg = f\"Error in scan_qr_codes: {e}\"\n",
    "        logger.exception(\"❌ QR code scanning failed\",\n",
    "                        agent=\"PdfExtraction\",\n",
    "                        node=\"scan_qr\",\n",
    "                        event_type=\"ERROR\",\n",
    "                        session_id=state.get('session_id'),\n",
    "                        error=str(e))\n",
    "        return {\"errors\": [error_msg]}"
   ]
  },
  {
   "cell_type": "code",
   "execution_count": 40,
   "id": "b1ec2e67-dd3e-4eec-a5fe-ee1bb48a2fe7",
   "metadata": {},
   "outputs": [],
   "source": [
    "async def finalize_extraction(state: PDFExtractionState) -> dict:\n",
    "    \"\"\"\n",
    "    Final node that logs completion of PDF extraction.\n",
    "    This ensures the frontend knows the agent has finished.\n",
    "    \n",
    "    Args:\n",
    "        state: Current extraction state\n",
    "        \n",
    "    Returns:\n",
    "        Empty dict (no state changes, just logging)\n",
    "    \"\"\"\n",
    "    try:\n",
    "        session_id = state.get('session_id', 'unknown')\n",
    "        images_count = len(state.get('extracted_images', []))\n",
    "        urls_count = len(state.get('extracted_urls', []))\n",
    "        errors_count = len(state.get('errors', []))\n",
    "\n",
    "        # Save the final state to a JSON file for debugging and records\n",
    "        session_output_directory = state.get(\"output_directory\", \"output\")\n",
    "        session_id = state.get(\"session_id\", \"unknown_session\")\n",
    "        finalizer_directory = os.path.join(session_output_directory, \"pdf_extraction\")\n",
    "        await asyncio.to_thread(os.makedirs, finalizer_directory, exist_ok=True)\n",
    "        json_filename = f\"pdf_extraction_final_state_session_{session_id}.json\"\n",
    "        json_path = os.path.join(finalizer_directory, json_filename)\n",
    "        await dump_state_to_file(state, json_path)\n",
    "        \n",
    "        if errors_count > 0:\n",
    "            logger.warning(\n",
    "                f\"⚠️ PDF Extraction complete with {errors_count} error(s)\",\n",
    "                agent=\"PdfExtraction\",\n",
    "                node=\"finalize_extraction\",\n",
    "                event_type=\"EXTRACTION_COMPLETE_WITH_ERRORS\",\n",
    "                session_id=session_id,\n",
    "                images_extracted=images_count,\n",
    "                urls_found=urls_count,\n",
    "                error_count=errors_count\n",
    "            )\n",
    "        else:\n",
    "            logger.success(\n",
    "                f\"✅ PDF Extraction complete | Images: {images_count}, URLs: {urls_count}\",\n",
    "                agent=\"PdfExtraction\",\n",
    "                node=\"finalize_extraction\",\n",
    "                event_type=\"EXTRACTION_COMPLETE\",\n",
    "                session_id=session_id,\n",
    "                images_extracted=images_count,\n",
    "                urls_found=urls_count\n",
    "            )\n",
    "        \n",
    "        return {}\n",
    "        \n",
    "    except Exception as e:\n",
    "        error_msg = f\"Error in finalize_extraction: {e}\"\n",
    "        logger.error(error_msg,\n",
    "                    agent=\"PdfExtraction\",\n",
    "                    node=\"finalize_extraction\",\n",
    "                    session_id=state.get('session_id'),\n",
    "                    exc_info=True)\n",
    "        return {\"errors\": [error_msg]}"
   ]
  },
  {
   "cell_type": "code",
   "execution_count": null,
   "id": "c6f07726-9d4b-497f-9e45-e7f777148d76",
   "metadata": {},
   "outputs": [],
   "source": []
  },
  {
   "cell_type": "code",
   "execution_count": null,
   "id": "db2cea83-b54e-44d8-aef2-3af12e7c8c6e",
   "metadata": {},
   "outputs": [],
   "source": []
  },
  {
   "cell_type": "markdown",
   "id": "28acc6b8-a57f-49fa-8c19-bf30cdd0efcb",
   "metadata": {},
   "source": [
    "# GRAPH"
   ]
  },
  {
   "cell_type": "code",
   "execution_count": 41,
   "id": "4a191326-dbfd-4e46-a331-8b1ce6d9e3e2",
   "metadata": {},
   "outputs": [],
   "source": [
    "from langgraph.graph import StateGraph, START, END\n",
    "from pdf_hunter.config import PDF_EXTRACTION_CONFIG"
   ]
  },
  {
   "cell_type": "code",
   "execution_count": 42,
   "id": "796570c7-4a35-4e00-a400-8c537df613db",
   "metadata": {},
   "outputs": [],
   "source": [
    "preprocessing_builder = StateGraph(PDFExtractionState, input_schema=PDFExtractionInputState, output_schema=PDFExtractionOutputState)\n",
    "\n",
    "preprocessing_builder.add_node(\"setup_session\", setup_session)\n",
    "preprocessing_builder.add_node(\"extract_pdf_images\", extract_pdf_images)\n",
    "preprocessing_builder.add_node(\"find_embedded_urls\", find_embedded_urls)\n",
    "preprocessing_builder.add_node(\"scan_qr_codes\", scan_qr_codes)\n",
    "preprocessing_builder.add_node(\"finalize_extraction\", finalize_extraction)\n",
    "\n",
    "preprocessing_builder.add_edge(START, \"setup_session\")\n",
    "\n",
    "preprocessing_builder.add_edge(\"setup_session\", \"extract_pdf_images\")\n",
    "preprocessing_builder.add_edge(\"setup_session\", \"find_embedded_urls\")\n",
    "preprocessing_builder.add_edge(\"setup_session\", \"scan_qr_codes\")\n",
    "\n",
    "# All parallel tasks converge to finalize_extraction before END\n",
    "preprocessing_builder.add_edge(\"extract_pdf_images\", \"finalize_extraction\")\n",
    "preprocessing_builder.add_edge(\"find_embedded_urls\", \"finalize_extraction\")\n",
    "preprocessing_builder.add_edge(\"scan_qr_codes\", \"finalize_extraction\")\n",
    "\n",
    "preprocessing_builder.add_edge(\"finalize_extraction\", END)\n",
    "\n",
    "preprocessing_graph = preprocessing_builder.compile()\n",
    "preprocessing_graph = preprocessing_graph.with_config(PDF_EXTRACTION_CONFIG)"
   ]
  },
  {
   "cell_type": "code",
   "execution_count": null,
   "id": "986525dd-b88a-48c8-a933-5b0994e15e10",
   "metadata": {},
   "outputs": [],
   "source": []
  },
  {
   "cell_type": "code",
   "execution_count": null,
   "id": "90b83423-e027-48c0-a5ec-a70b6e7b19b4",
   "metadata": {},
   "outputs": [],
   "source": []
  },
  {
   "cell_type": "code",
   "execution_count": 43,
   "id": "b94fc175-eece-40a1-b2c4-c59d0dd2ed3a",
   "metadata": {},
   "outputs": [],
   "source": [
    "from IPython.display import Image, display"
   ]
  },
  {
   "cell_type": "code",
   "execution_count": 44,
   "id": "83c965d6-8125-4387-84c7-c3bd37fb6e52",
   "metadata": {},
   "outputs": [
    {
     "data": {
      "image/png": "[encoded data removed]",
      "text/plain": [
       "<IPython.core.display.Image object>"
      ]
     },
     "metadata": {},
     "output_type": "display_data"
    }
   ],
   "source": [
    "display(Image(preprocessing_graph.get_graph().draw_mermaid_png()))"
   ]
  },
  {
   "cell_type": "code",
   "execution_count": null,
   "id": "c03ce727-30e4-4c5d-8060-5beab5383701",
   "metadata": {},
   "outputs": [],
   "source": []
  },
  {
   "cell_type": "code",
   "execution_count": null,
   "id": "53309e36-7708-40a6-9d54-a3f2fbc96314",
   "metadata": {},
   "outputs": [],
   "source": []
  },
  {
   "cell_type": "markdown",
   "id": "bc932217-8476-4729-bbb3-2abf3e26d7a1",
   "metadata": {},
   "source": [
    "# Test Helpers"
   ]
  },
  {
   "cell_type": "code",
   "execution_count": 15,
   "id": "f45baf61-eaa9-4537-b791-5ea7c3fcb48e",
   "metadata": {},
   "outputs": [
    {
     "data": {
      "text/plain": [
       "{'sha1': '242fc6a46e4b36fcc00a3cfaabefe29a8cf8a5c9',\n",
       " 'md5': '000d3c8a528505461dea43b3ead5f422'}"
      ]
     },
     "execution_count": 15,
     "metadata": {},
     "output_type": "execute_result"
    }
   ],
   "source": [
    "calculate_file_hashes(\"/Users/gorelik/Courses/pdf-hunter/tests/assets/pdfs/87c740d2b7c22f9ccabbdef412443d166733d4d925da0e8d6e5b310ccfc89e13.pdf\")"
   ]
  },
  {
   "cell_type": "code",
   "execution_count": null,
   "id": "0baf53bf-4fd0-448e-b7bc-a401184ab37a",
   "metadata": {},
   "outputs": [],
   "source": []
  },
  {
   "cell_type": "code",
   "execution_count": 16,
   "id": "eff9280b-2dfb-4bb1-86eb-71e7e8503a1e",
   "metadata": {},
   "outputs": [
    {
     "data": {
      "text/plain": [
       "27"
      ]
     },
     "execution_count": 16,
     "metadata": {},
     "output_type": "execute_result"
    }
   ],
   "source": [
    "get_pdf_page_count(\"/Users/gorelik/Courses/pdf-hunter/tests/assets/pdfs/87c740d2b7c22f9ccabbdef412443d166733d4d925da0e8d6e5b310ccfc89e13.pdf\")"
   ]
  },
  {
   "cell_type": "code",
   "execution_count": null,
   "id": "359812fb-e424-4615-a978-34c2e2045dd0",
   "metadata": {},
   "outputs": [],
   "source": []
  },
  {
   "cell_type": "code",
   "execution_count": 180,
   "id": "b2fd387b-0fac-4877-bb8c-dae36a508882",
   "metadata": {},
   "outputs": [],
   "source": [
    "import base64\n",
    "from io import BytesIO\n",
    "from PIL import Image"
   ]
  },
  {
   "cell_type": "code",
   "execution_count": null,
   "id": "26533780-d893-4691-9ebf-fc56482c875f",
   "metadata": {},
   "outputs": [],
   "source": []
  },
  {
   "cell_type": "code",
   "execution_count": 17,
   "id": "c307a3fa-0505-45b3-b06e-dd97884ac633",
   "metadata": {},
   "outputs": [],
   "source": [
    "res = extract_pages_as_base64_images(\"/Users/gorelik/Courses/pdf-hunter/tests/assets/pdfs/87c740d2b7c22f9ccabbdef412443d166733d4d925da0e8d6e5b310ccfc89e13.pdf\", [0])"
   ]
  },
  {
   "cell_type": "code",
   "execution_count": null,
   "id": "94e80b38-c737-4167-ba3a-37417de1b594",
   "metadata": {
    "scrolled": true
   },
   "outputs": [],
   "source": [
    "res"
   ]
  },
  {
   "cell_type": "code",
   "execution_count": 19,
   "id": "2fc1960b-39ff-4a22-968f-83c9df8548c9",
   "metadata": {},
   "outputs": [],
   "source": [
    "image_data = base64.b64decode(res[0][\"base64_data\"])"
   ]
  },
  {
   "cell_type": "code",
   "execution_count": 20,
   "id": "3ba84fd2-362d-432a-be23-11189050fe98",
   "metadata": {},
   "outputs": [],
   "source": [
    "image_stream = io.BytesIO(image_data)"
   ]
  },
  {
   "cell_type": "code",
   "execution_count": 25,
   "id": "b15364aa-874b-47b7-b138-101111808214",
   "metadata": {},
   "outputs": [],
   "source": [
    "# Image.open(image_stream)"
   ]
  },
  {
   "cell_type": "code",
   "execution_count": 47,
   "id": "14003052-d8fe-4ba2-b724-711cb7b97bbf",
   "metadata": {},
   "outputs": [],
   "source": [
    "from PIL import Image"
   ]
  },
  {
   "cell_type": "code",
   "execution_count": 23,
   "id": "2026e1e8-b45f-404b-84df-865377e608e1",
   "metadata": {},
   "outputs": [
    {
     "data": {
      "text/plain": [
       "'bc6f1b38c5c694c4'"
      ]
     },
     "execution_count": 23,
     "metadata": {},
     "output_type": "execute_result"
    }
   ],
   "source": [
    "calculate_image_phash(Image.open(image_stream))\n"
   ]
  },
  {
   "cell_type": "code",
   "execution_count": null,
   "id": "07b80909-85e5-4b25-aa42-40238bbd7f9e",
   "metadata": {},
   "outputs": [],
   "source": []
  },
  {
   "cell_type": "code",
   "execution_count": 24,
   "id": "8fb8984d-9049-4f3a-9eaa-05fab6b36721",
   "metadata": {},
   "outputs": [
    {
     "data": {
      "text/plain": [
       "[{'url': 'https://www.foxit.com/fr/pdf-reader/',\n",
       "  'page_number': 1,\n",
       "  'url_type': 'annotation',\n",
       "  'coordinates': {'x0': 338.0, 'y0': 801.0, 'x1': 503.0, 'y1': 820.0},\n",
       "  'is_external': True,\n",
       "  'xref': 53},\n",
       " {'url': 'https://www.foxit.com/fr/pdf-reader/',\n",
       "  'page_number': 1,\n",
       "  'url_type': 'annotation',\n",
       "  'coordinates': {'x0': 243.0, 'y0': 804.0, 'x1': 555.0, 'y1': 831.0},\n",
       "  'is_external': True,\n",
       "  'xref': 54},\n",
       " {'url': 'https://www.foxit.com/fr/pdf-reader/',\n",
       "  'page_number': 1,\n",
       "  'url_type': 'annotation',\n",
       "  'coordinates': {'x0': 189.0, 'y0': 485.0, 'x1': 617.0, 'y1': 771.0},\n",
       "  'is_external': True,\n",
       "  'xref': 55},\n",
       " {'url': 'https://www.foxit.com/',\n",
       "  'page_number': 1,\n",
       "  'url_type': 'text',\n",
       "  'coordinates': None,\n",
       "  'is_external': True,\n",
       "  'xref': None},\n",
       " {'url': 'https://www.foxit.com/fr/pdf-reader/',\n",
       "  'page_number': 3,\n",
       "  'url_type': 'annotation',\n",
       "  'coordinates': {'x0': 1.0, 'y0': 1.0, 'x1': 795.0, 'y1': 842.0},\n",
       "  'is_external': True,\n",
       "  'xref': 72}]"
      ]
     },
     "execution_count": 24,
     "metadata": {},
     "output_type": "execute_result"
    }
   ],
   "source": [
    "extract_urls_from_pdf(\"/Users/gorelik/Courses/pdf-hunter/tests/assets/pdfs/87c740d2b7c22f9ccabbdef412443d166733d4d925da0e8d6e5b310ccfc89e13.pdf\", [0, 1, 2, 3])"
   ]
  },
  {
   "cell_type": "code",
   "execution_count": null,
   "id": "af3b256b-b39d-47bb-9bbd-bd438471c418",
   "metadata": {},
   "outputs": [],
   "source": []
  },
  {
   "cell_type": "markdown",
   "id": "1a3fc19e-19d9-4389-a232-0d0c973a6e9d",
   "metadata": {},
   "source": [
    "# Test Graph"
   ]
  },
  {
   "cell_type": "code",
   "execution_count": null,
   "id": "196dd11e-3c5b-42aa-a5a1-8b2ced2e77cd",
   "metadata": {
    "scrolled": true
   },
   "outputs": [],
   "source": [
    "if __name__ == \"__main__\":\n",
    "    import pprint\n",
    "\n",
    "    # --- Configuration ---\n",
    "    # This should point to a real PDF file for testing\n",
    "    file_path = \"/Users/gorelik/Courses/pdf-hunter/tests/assets/pdfs/87c740d2b7c22f9ccabbdef412443d166733d4d925da0e8d6e5b310ccfc89e13.pdf\"\n",
    "    output_directory = \"output/preprocessing_results\"\n",
    "\n",
    "    # --- Initial State ---\n",
    "    # This is the input to our graph.\n",
    "    initial_state = {\n",
    "        \"file_path\": file_path,\n",
    "        \"output_directory\": output_directory,\n",
    "        \"number_of_pages_to_process\": 3,  # We want to process only the first page (page 0)\n",
    "    }\n",
    "\n",
    "    print(f\"--- Running Preprocessing on: {file_path} ---\")\n",
    "\n",
    "    # --- Invocation ---\n",
    "    final_state = await preprocessing_graph.ainvoke(initial_state)\n",
    "\n",
    "    print(\"\\n--- Preprocessing Complete. ---\")\n",
    "\n",
    "    # --- Verification ---\n",
    "    print(\"\\n--- Verification ---\")\n",
    "    if final_state.get(\"errors\"):\n",
    "        print(f\"Completed with {len(final_state['errors'])} error(s).\")\n",
    "    else:\n",
    "        print(\"Completed successfully.\")\n",
    "        print(f\"PDF Hash Calculated: {'Yes' if final_state.get('pdf_hash') else 'No'}\")\n",
    "        print(f\"Images Extracted: {len(final_state.get('extracted_images', []))}\")\n",
    "        print(f\"URL Findings: {len(final_state.get('extracted_urls', []))}\")\n",
    "        if final_state.get('extracted_urls'):\n",
    "            print(\"Example URL Finding:\")\n",
    "            pprint.pprint(final_state['extracted_urls'][0])"
   ]
  },
  {
   "cell_type": "code",
   "execution_count": null,
   "id": "0a989ad0-4ea1-46e4-8057-cfdb4df7d31a",
   "metadata": {},
   "outputs": [],
   "source": []
  },
  {
   "cell_type": "code",
   "execution_count": 32,
   "id": "3e0cff02-4f33-4a18-8fa5-33843ed610b1",
   "metadata": {},
   "outputs": [
    {
     "data": {
      "text/plain": [
       "[ExtractedURL(url='https://www.foxit.com/fr/pdf-reader/', page_number=0, url_type='annotation', coordinates={'x0': 338.0, 'y0': 801.0, 'x1': 503.0, 'y1': 820.0}, is_external=True, xref=12),\n",
       " ExtractedURL(url='https://www.foxit.com/fr/pdf-reader/', page_number=0, url_type='annotation', coordinates={'x0': 243.0, 'y0': 804.0, 'x1': 555.0, 'y1': 831.0}, is_external=True, xref=13),\n",
       " ExtractedURL(url='https://www.foxit.com/fr/pdf-reader/', page_number=0, url_type='annotation', coordinates={'x0': 189.0, 'y0': 485.0, 'x1': 617.0, 'y1': 771.0}, is_external=True, xref=14),\n",
       " ExtractedURL(url='https://www.foxit.com/', page_number=0, url_type='text', coordinates=None, is_external=True, xref=None)]"
      ]
     },
     "execution_count": 32,
     "metadata": {},
     "output_type": "execute_result"
    }
   ],
   "source": [
    "final_state[\"extracted_urls\"]"
   ]
  },
  {
   "cell_type": "code",
   "execution_count": 33,
   "id": "1ffb5d35-ef16-4e0b-81a5-8dfb2dc12972",
   "metadata": {},
   "outputs": [
    {
     "data": {
      "text/plain": [
       "PDFHashData(sha1='35f89c35c980b7e916e35e937032eb77f1d9f7df', md5='644d782797b69b603e8b9c4975440e8c')"
      ]
     },
     "execution_count": 33,
     "metadata": {},
     "output_type": "execute_result"
    }
   ],
   "source": [
    "final_state[\"pdf_hash\"]"
   ]
  },
  {
   "cell_type": "code",
   "execution_count": 34,
   "id": "35b48101-b800-4d7c-ae4f-9d23cbf46daa",
   "metadata": {},
   "outputs": [
    {
     "data": {
      "text/plain": [
       "dict_keys(['output_directory', 'session_id', 'pdf_hash', 'page_count', 'pages_to_process', 'extracted_images', 'extracted_urls', 'errors'])"
      ]
     },
     "execution_count": 34,
     "metadata": {},
     "output_type": "execute_result"
    }
   ],
   "source": [
    "final_state.keys()"
   ]
  },
  {
   "cell_type": "code",
   "execution_count": null,
   "id": "ef11c3ed-aa38-4730-89c0-6789e9e2efd5",
   "metadata": {},
   "outputs": [],
   "source": []
  },
  {
   "cell_type": "code",
   "execution_count": null,
   "id": "20e36fa6-6eb9-4f3f-afa8-1edf0902e024",
   "metadata": {},
   "outputs": [],
   "source": [
    "pprint.pprint(final_state)"
   ]
  },
  {
   "cell_type": "code",
   "execution_count": null,
   "id": "9f0d79d3-4664-4807-9410-68a28adc0c16",
   "metadata": {},
   "outputs": [],
   "source": []
  },
  {
   "cell_type": "code",
   "execution_count": null,
   "id": "bc766e20-6df7-408e-a951-c226a31ca6ea",
   "metadata": {},
   "outputs": [],
   "source": []
  }
 ],
 "metadata": {
  "kernelspec": {
   "display_name": "PDF Hunter (venv)",
   "language": "python",
   "name": "pdf-hunter-correct"
  },
  "language_info": {
   "codemirror_mode": {
    "name": "ipython",
    "version": 3
   },
   "file_extension": ".py",
   "mimetype": "text/x-python",
   "name": "python",
   "nbconvert_exporter": "python",
   "pygments_lexer": "ipython3",
   "version": "3.11.12"
  }
 },
 "nbformat": 4,
 "nbformat_minor": 5
}
